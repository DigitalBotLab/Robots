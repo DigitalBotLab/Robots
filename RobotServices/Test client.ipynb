{
 "cells": [
  {
   "cell_type": "code",
   "execution_count": 2,
   "id": "03d64d26",
   "metadata": {},
   "outputs": [],
   "source": [
    "import socket\n",
    "import sys\n",
    "\n",
    "HOST, PORT = \"localhost\", 9999\n",
    "\n",
    "# SOCK_DGRAM is the socket type to use for UDP sockets\n",
    "sock = socket.socket(socket.AF_INET, socket.SOCK_DGRAM)"
   ]
  },
  {
   "cell_type": "code",
   "execution_count": 4,
   "id": "91147c76",
   "metadata": {},
   "outputs": [],
   "source": [
    "data = \"hello world\""
   ]
  },
  {
   "cell_type": "code",
   "execution_count": null,
   "id": "c3898581",
   "metadata": {},
   "outputs": [],
   "source": [
    "# As you can see, there is no connect() call; UDP has no connections.\n",
    "# Instead, data is directly sent to the recipient via sendto().\n",
    "sock.sendto(bytes(data + \"\\n\", \"utf-8\"), (HOST, PORT))\n",
    "received = str(sock.recv(1024), \"utf-8\")\n",
    "\n",
    "print(\"Sent:     {}\".format(data))\n",
    "print(\"Received: {}\".format(received))"
   ]
  },
  {
   "cell_type": "code",
   "execution_count": null,
   "id": "f6106a8c",
   "metadata": {},
   "outputs": [],
   "source": []
  }
 ],
 "metadata": {
  "kernelspec": {
   "display_name": "control",
   "language": "python",
   "name": "control"
  },
  "language_info": {
   "codemirror_mode": {
    "name": "ipython",
    "version": 3
   },
   "file_extension": ".py",
   "mimetype": "text/x-python",
   "name": "python",
   "nbconvert_exporter": "python",
   "pygments_lexer": "ipython3",
   "version": "3.8.5"
  }
 },
 "nbformat": 4,
 "nbformat_minor": 5
}
