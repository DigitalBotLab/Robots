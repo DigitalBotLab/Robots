{
 "cells": [
  {
   "cell_type": "code",
   "execution_count": 1,
   "id": "3635106d",
   "metadata": {},
   "outputs": [],
   "source": [
    "import socket\n",
    "import sys\n",
    "\n",
    "HOST, PORT = \"localhost\", 9999\n",
    "\n",
    "# SOCK_DGRAM is the socket type to use for UDP sockets\n",
    "sock = socket.socket(socket.AF_INET, socket.SOCK_DGRAM)"
   ]
  },
  {
   "cell_type": "code",
   "execution_count": 5,
   "id": "3ce31bde",
   "metadata": {},
   "outputs": [],
   "source": [
    "data = str([0.0]*8)"
   ]
  },
  {
   "cell_type": "code",
   "execution_count": 6,
   "id": "1a5a1aaa",
   "metadata": {},
   "outputs": [
    {
     "name": "stdout",
     "output_type": "stream",
     "text": [
      "Sent:     [0.0, 0.0, 0.0, 0.0, 0.0, 0.0, 0.0, 0.0]\n",
      "Received: [0.0, 0.0, 0.0, 0.0, 0.0, 0.0, 0.0, 0.0]\n"
     ]
    }
   ],
   "source": [
    "# As you can see, there is no connect() call; UDP has no connections.\n",
    "# Instead, data is directly sent to the recipient via sendto().\n",
    "sock.sendto(bytes(data + \"\\n\", \"utf-8\"), (HOST, PORT))\n",
    "received = str(sock.recv(1024), \"utf-8\")\n",
    "\n",
    "print(\"Sent:     {}\".format(data))\n",
    "print(\"Received: {}\".format(received))"
   ]
  },
  {
   "cell_type": "code",
   "execution_count": null,
   "id": "57f5ba73",
   "metadata": {},
   "outputs": [],
   "source": []
  }
 ],
 "metadata": {
  "kernelspec": {
   "display_name": "Python 3.7.13 64-bit",
   "language": "python",
   "name": "python3"
  },
  "language_info": {
   "codemirror_mode": {
    "name": "ipython",
    "version": 3
   },
   "file_extension": ".py",
   "mimetype": "text/x-python",
   "name": "python",
   "nbconvert_exporter": "python",
   "pygments_lexer": "ipython3",
   "version": "3.7.13"
  },
  "vscode": {
   "interpreter": {
    "hash": "4fd494cd4d24733b889c6639dfa7d71bb564f0689ee6e10be297f686996e6017"
   }
  }
 },
 "nbformat": 4,
 "nbformat_minor": 5
}
