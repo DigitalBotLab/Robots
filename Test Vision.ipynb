{
 "cells": [
  {
   "cell_type": "code",
   "execution_count": 1,
   "id": "7334a559",
   "metadata": {},
   "outputs": [],
   "source": [
    "import requests\n",
    "import base64\n",
    "import json"
   ]
  },
  {
   "cell_type": "code",
   "execution_count": 2,
   "id": "8fa47524",
   "metadata": {},
   "outputs": [],
   "source": [
    "# Define the URL of the Gradio server\n",
    "url = \"http://127.0.0.1:7860/run/predict\"\n",
    "\n",
    "# Define the input text\n",
    "text = \"Hello, Gradio!\"\n",
    "\n",
    "# Define the request headers and data\n",
    "headers = {\"Content-Type\": \"application/json\"}\n"
   ]
  },
  {
   "cell_type": "code",
   "execution_count": 5,
   "id": "04c51d8a",
   "metadata": {},
   "outputs": [],
   "source": [
    "image_file = \"I:/Research/FastSAM/examples/0.jpg\"\n",
    "\n",
    "# Set the request payload\n",
    "with open(image_file, \"rb\") as f:\n",
    "    encoded_string = base64.b64encode(f.read())\n",
    "\n",
    "data_byte = \"data:image/png;base64,\" + encoded_string.decode(\"utf-8\")"
   ]
  },
  {
   "cell_type": "code",
   "execution_count": 6,
   "id": "1b75de74",
   "metadata": {},
   "outputs": [],
   "source": [
    "payload = {\n",
    "  \"data\": [\n",
    "    data_byte,\"grey tea tower\"\n",
    "  ]\n",
    "#   \"event_data\": \"null\",\n",
    "#   \"session_hash\": \"240wfrtpql8i\"\n",
    "}"
   ]
  },
  {
   "cell_type": "code",
   "execution_count": 11,
   "id": "2e7e652d",
   "metadata": {},
   "outputs": [],
   "source": [
    "# Send the request to the Gradio server\n",
    "response = requests.post(url, json=payload)\n",
    "\n",
    "# Get the response data as a Python object\n",
    "response_data = response.json()\n",
    "\n"
   ]
  },
  {
   "cell_type": "code",
   "execution_count": 12,
   "id": "8d7eb15a",
   "metadata": {},
   "outputs": [
    {
     "name": "stdout",
     "output_type": "stream",
     "text": [
      "{'data': ['[[[[287, 494]], [[249, 510]], [[224, 531]], [[208, 559]], [[206, 592]], [[236, 649]], [[257, 669]], [[321, 670]], [[345, 658]], [[374, 628]], [[382, 607]], [[382, 583]], [[374, 551]], [[353, 510]], [[322, 494]]]]'], 'is_generating': False, 'duration': 6.906442880630493, 'average_duration': 6.906442880630493}\n"
     ]
    }
   ],
   "source": [
    "# Print the response data\n",
    "print(response_data)"
   ]
  },
  {
   "cell_type": "code",
   "execution_count": null,
   "id": "b122e75b",
   "metadata": {},
   "outputs": [],
   "source": []
  }
 ],
 "metadata": {
  "kernelspec": {
   "display_name": "FastSAM",
   "language": "python",
   "name": "python3"
  },
  "language_info": {
   "codemirror_mode": {
    "name": "ipython",
    "version": 3
   },
   "file_extension": ".py",
   "mimetype": "text/x-python",
   "name": "python",
   "nbconvert_exporter": "python",
   "pygments_lexer": "ipython3",
   "version": "3.9.16"
  }
 },
 "nbformat": 4,
 "nbformat_minor": 5
}
