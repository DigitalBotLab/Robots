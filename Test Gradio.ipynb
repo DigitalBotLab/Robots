{
 "cells": [
  {
   "cell_type": "code",
   "execution_count": 1,
   "id": "f8ea1633",
   "metadata": {},
   "outputs": [],
   "source": [
    "import requests"
   ]
  },
  {
   "cell_type": "code",
   "execution_count": 84,
   "id": "63d572c7",
   "metadata": {},
   "outputs": [],
   "source": [
    "import json"
   ]
  },
  {
   "cell_type": "code",
   "execution_count": 88,
   "id": "c7ef92f4",
   "metadata": {},
   "outputs": [],
   "source": [
    "# Define the URL of the Gradio server\n",
    "url = \"https://0205f666e18085fce5.gradio.live/run/predict\"\n",
    "\n",
    "# Define the input text\n",
    "text = \"Hello, Gradio!\"\n",
    "\n",
    "# Define the request headers and data\n",
    "headers = {\"Content-Type\": \"application/json\"}\n",
    "payload = {\n",
    "  \"fn_index\": \"0\",\n",
    "  \"data\": [\n",
    "    \"Yizhou\"\n",
    "  ],\n",
    "  \"event_data\": \"null\",\n",
    "  \"session_hash\": \"240wfrtpql8i\"\n",
    "}"
   ]
  },
  {
   "cell_type": "code",
   "execution_count": 89,
   "id": "b367a963",
   "metadata": {},
   "outputs": [
    {
     "data": {
      "text/plain": [
       "{'fn_index': '0',\n",
       " 'data': ['Yizhou'],\n",
       " 'event_data': 'null',\n",
       " 'session_hash': '240wfrtpql8i'}"
      ]
     },
     "execution_count": 89,
     "metadata": {},
     "output_type": "execute_result"
    }
   ],
   "source": [
    "payload"
   ]
  },
  {
   "cell_type": "code",
   "execution_count": 90,
   "id": "d3c0b29f",
   "metadata": {},
   "outputs": [
    {
     "name": "stdout",
     "output_type": "stream",
     "text": [
      "{'data': ['Hello Yizhou!'], 'is_generating': False, 'duration': 0.0, 'average_duration': 0.0}\n"
     ]
    }
   ],
   "source": [
    "# Send the request to the Gradio server\n",
    "response = requests.post(url, headers=headers, data=json.dumps(payload))\n",
    "\n",
    "# Get the response data as a Python object\n",
    "response_data = response.json()\n",
    "\n",
    "# Print the response data\n",
    "print(response_data)"
   ]
  },
  {
   "cell_type": "code",
   "execution_count": null,
   "id": "1ec4ea13",
   "metadata": {},
   "outputs": [],
   "source": [
    "response.raise_for_status()"
   ]
  }
 ],
 "metadata": {
  "kernelspec": {
   "display_name": "vrkit",
   "language": "python",
   "name": "vrkit"
  },
  "language_info": {
   "codemirror_mode": {
    "name": "ipython",
    "version": 3
   },
   "file_extension": ".py",
   "mimetype": "text/x-python",
   "name": "python",
   "nbconvert_exporter": "python",
   "pygments_lexer": "ipython3",
   "version": "3.8.13"
  }
 },
 "nbformat": 4,
 "nbformat_minor": 5
}
