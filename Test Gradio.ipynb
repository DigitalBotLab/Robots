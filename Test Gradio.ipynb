{
 "cells": [
  {
   "cell_type": "code",
   "execution_count": 1,
   "id": "7334a559",
   "metadata": {},
   "outputs": [],
   "source": [
    "import requests\n",
    "import base64\n",
    "import json"
   ]
  },
  {
   "cell_type": "code",
   "execution_count": 12,
   "id": "8fa47524",
   "metadata": {},
   "outputs": [],
   "source": [
    "# Define the URL of the Gradio server\n",
    "url = \"https://9828ff67-bc0b-4d0e.gradio.live/run/predict\"\n",
    "\n",
    "# Define the input text\n",
    "text = \"Hello, Gradio!\"\n",
    "\n",
    "# Define the request headers and data\n",
    "headers = {\"Content-Type\": \"application/json\"}\n"
   ]
  },
  {
   "cell_type": "code",
   "execution_count": 23,
   "id": "04c51d8a",
   "metadata": {},
   "outputs": [],
   "source": [
    "image_file = \"C:/Users/Yizhou Zhao/Desktop/Untitled Folder/0.jpg\"\n",
    "\n",
    "# Set the request payload\n",
    "with open(image_file, \"rb\") as f:\n",
    "    encoded_string = base64.b64encode(f.read())\n",
    "\n",
    "data_url = \"data:image/png;base64,\" + encoded_string.decode(\"utf-8\")"
   ]
  },
  {
   "cell_type": "code",
   "execution_count": 24,
   "id": "1b75de74",
   "metadata": {},
   "outputs": [],
   "source": [
    "payload = {\n",
    "  \"data\": [\n",
    "    data_url,\"cup\", 0.1\n",
    "  ]\n",
    "#   \"event_data\": \"null\",\n",
    "#   \"session_hash\": \"240wfrtpql8i\"\n",
    "}"
   ]
  },
  {
   "cell_type": "code",
   "execution_count": 25,
   "id": "2e7e652d",
   "metadata": {},
   "outputs": [
    {
     "name": "stderr",
     "output_type": "stream",
     "text": [
      "IOPub data rate exceeded.\n",
      "The notebook server will temporarily stop sending output\n",
      "to the client in order to avoid crashing it.\n",
      "To change this limit, set the config variable\n",
      "`--NotebookApp.iopub_data_rate_limit`.\n",
      "\n",
      "Current values:\n",
      "NotebookApp.iopub_data_rate_limit=1000000.0 (bytes/sec)\n",
      "NotebookApp.rate_limit_window=3.0 (secs)\n",
      "\n"
     ]
    }
   ],
   "source": [
    "# Send the request to the Gradio server\n",
    "response = requests.post(url, json=payload)\n",
    "\n",
    "# Get the response data as a Python object\n",
    "response_data = response.json()\n",
    "\n",
    "# Print the response data\n",
    "# print(response_data)"
   ]
  },
  {
   "cell_type": "code",
   "execution_count": null,
   "id": "8d7eb15a",
   "metadata": {},
   "outputs": [],
   "source": []
  }
 ],
 "metadata": {
  "kernelspec": {
   "display_name": "vrkit",
   "language": "python",
   "name": "vrkit"
  },
  "language_info": {
   "codemirror_mode": {
    "name": "ipython",
    "version": 3
   },
   "file_extension": ".py",
   "mimetype": "text/x-python",
   "name": "python",
   "nbconvert_exporter": "python",
   "pygments_lexer": "ipython3",
   "version": "3.8.13"
  }
 },
 "nbformat": 4,
 "nbformat_minor": 5
}
